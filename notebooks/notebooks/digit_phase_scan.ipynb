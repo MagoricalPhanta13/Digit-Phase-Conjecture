{
 "cells": [
  {
   "cell_type": "markdown",
   "metadata": {},
   "source": [
    "# Digit Phase Conjecture: Palindrome and Absence Scanner"
   ]
  },
  {
   "cell_type": "code",
   "execution_count": null,
   "metadata": {},
   "outputs": [],
   "source": [
    "import matplotlib.pyplot as plt\n",
    "import numpy as np\n",
    "import re"
   ]
  },
  {
   "cell_type": "markdown",
   "metadata": {},
   "source": [
    "### Load Digit Sequences (Replace with actual data as needed)"
   ]
  },
  {
   "cell_type": "code",
   "execution_count": null,
   "metadata": {},
   "outputs": [],
   "source": [
    "constants = {\n",
    "    \"pi\":     \"1415926535\" * 10000,\n",
    "    \"e\":      \"2718281828\" * 10000,\n",
    "    \"phi\":    \"1618033988\" * 10000,\n",
    "    \"sqrt2\":  \"1414213562\" * 10000\n",
    "}"
   ]
  },
  {
   "cell_type": "markdown",
   "metadata": {},
   "source": [
    "### Define Palindrome Detection Functions"
   ]
  },
  {
   "cell_type": "code",
   "execution_count": null,
   "metadata": {},
   "outputs": [],
   "source": [
    "def is_palindrome(s):\n",
    "    return s == s[::-1]\n",
    "\n",
    "def count_fixed_length_palindromes(digits, lengths=[3, 5, 7]):\n",
    "    counts = {L: 0 for L in lengths}\n",
    "    for L in lengths:\n",
    "        for i in range(len(digits) - L + 1):\n",
    "            if is_palindrome(digits[i:i+L]):\n",
    "                counts[L] += 1\n",
    "    return counts"
   ]
  },
  {
   "cell_type": "markdown",
   "metadata": {},
   "source": [
    "### Detect Digit Absence (e.g., digit '7') in Non-Overlapping Blocks"
   ]
  },
  {
   "cell_type": "code",
   "execution_count": null,
   "metadata": {},
   "outputs": [],
   "source": [
    "def digit_absence_by_block(digits, block_size=5, digit='7'):\n",
    "    n_blocks = len(digits) // block_size\n",
    "    absence_flags = []\n",
    "    for i in range(n_blocks):\n",
    "        block = digits[i * block_size: (i + 1) * block_size]\n",
    "        absence_flags.append(digit not in block)\n",
    "    return absence_flags"
   ]
  },
  {
   "cell_type": "markdown",
   "metadata": {},
   "source": [
    "### Run Analysis and Store Results"
   ]
  },
  {
   "cell_type": "code",
   "execution_count": null,
   "metadata": {},
   "outputs": [],
   "source": [
    "results = {}\n",
    "\n",
    "for name, digits in constants.items():\n",
    "    pal_counts = count_fixed_length_palindromes(digits)\n",
    "    absence_flags = digit_absence_by_block(digits, digit='7')\n",
    "    absence_rate = sum(absence_flags) / len(absence_flags)\n",
    "    \n",
    "    results[name] = {\n",
    "        \"palindromes\": pal_counts,\n",
    "        \"absence_rate\": absence_rate,\n",
    "        \"absence_flags\": absence_flags\n",
    "    }"
   ]
  },
  {
   "cell_type": "markdown",
   "metadata": {},
   "source": [
    "### Visualize Palindrome Counts by Length"
   ]
  },
  {
   "cell_type": "code",
   "execution_count": null,
   "metadata": {},
   "outputs": [],
   "source": [
    "fig, ax = plt.subplots(figsize=(8, 5))\n",
    "lengths = [3, 5, 7]\n",
    "for name, result in results.items():\n",
    "    counts = [result[\"palindromes\"][L] for L in lengths]\n",
    "    ax.plot(lengths, counts, label=name)\n",
    "\n",
    "ax.set_title(\"Fixed-Length Palindrome Counts (3, 5, 7 Digits)\")\n",
    "ax.set_xlabel(\"Palindrome Length\")\n",
    "ax.set_ylabel(\"Count\")\n",
    "ax.legend()\n",
    "plt.grid(True)\n",
    "plt.show()"
   ]
  },
  {
   "cell_type": "markdown",
   "metadata": {},
   "source": [
    "### Heatmap of Digit 7 Absence in Pi"
   ]
  },
  {
   "cell_type": "code",
   "execution_count": null,
   "metadata": {},
   "outputs": [],
   "source": [
    "fig, ax = plt.subplots(figsize=(12, 2))\n",
    "absence_array = np.array(results[\"pi\"][\"absence_flags\"], dtype=int)\n",
    "ax.imshow(absence_array[np.newaxis, :], cmap=\"Reds\", aspect=\"auto\")\n",
    "ax.set_title(\"Digit 7 Absence Across 5-Digit Blocks (π)\")\n",
    "ax.set_yticks([])\n",
    "plt.show()"
   ]
  }
 ],
 "metadata": {
  "kernelspec": {
   "display_name": "Python 3",
   "language": "python",
   "name": "python3"
  },
  "language_info": {
   "name": "python",
   "version": "3.9"
  }
 },
 "nbformat": 4,
 "nbformat_minor": 2
}
